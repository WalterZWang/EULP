{
 "cells": [
  {
   "cell_type": "markdown",
   "metadata": {},
   "source": [
    "## This notebook contains routines to analyze the electric load profiles from PG&E office building\n",
    "#### Brief description of this workflow:\n",
    "1. Pre-processing (skip this step your if you have cleaned data)\n",
    "    - Extract data for a building type (e.g. office building in our case)\n",
    "    - Remove empty and problematic data\n",
    "    - Convert data into dataframes ([example](../data_example/1004541105.csv))\n",
    "    - Get typical building load profiles\n",
    "        - Create annual heatmaps\n",
    "        - Use pre-trained CNN model and k-means clustering to distinguish typical building loads (high-load during daytime) and non-typical loads (e.g., high-load during night time)\n",
    "2. Conduct Frequency-Domain analysis\n",
    "    - Annual analysis (not granular enough)\n",
    "        - Create bins to group high, medium, and low frequency features\n",
    "    - Daily analysis\n",
    "        - How"
   ]
  },
  {
   "cell_type": "markdown",
   "metadata": {},
   "source": [
    "### Setup the path and import utility libraries (Needed for first-time run)"
   ]
  },
  {
   "cell_type": "code",
   "execution_count": 1,
   "metadata": {},
   "outputs": [
    {
     "name": "stdout",
     "output_type": "stream",
     "text": [
      "/mnt/c/Users/hlee9/Documents/GitHub/DOE_EULP/EULP\n"
     ]
    },
    {
     "name": "stderr",
     "output_type": "stream",
     "text": [
      "Using TensorFlow backend.\n"
     ]
    }
   ],
   "source": [
    "%pwd\n",
    "%cd ..\n",
    "\n",
    "# Import utility functions\n",
    "# Change directory to the EULP root path, use %cd path_to_EULP\n",
    "import os\n",
    "from lib import data_exploration_utils as ex\n",
    "from lib import frequency_domain_utils as fd\n",
    "dir_root = %pwd\n",
    "dir_data = os.path.join(dir_root, \"data_all\")\n",
    "dir_fig = os.path.join(dir_root, \"fig\")"
   ]
  },
  {
   "cell_type": "markdown",
   "metadata": {},
   "source": [
    "### Step 1. Pre-processing (optional)\n",
    "Previously, we found some load profiles have high-peak during the night time.\n",
    "- Example 1: [exterior lighting](../data_example/11262200205.png)\n",
    "- Example 1: [typical load profile](../data_example/1302702505.png)\n",
    "\n",
    "We want to explore how those load profile look like and whether we should separate them from typical load profiles."
   ]
  },
  {
   "cell_type": "markdown",
   "metadata": {},
   "source": [
    "#### Generate heatmaps and time-series line plot for visualization"
   ]
  },
  {
   "cell_type": "code",
   "execution_count": null,
   "metadata": {},
   "outputs": [],
   "source": [
    "v_ts_CSVs = ex.get_all_file_paths(dir_data, 'csv')\n",
    "# Create these paths if not exist\n",
    "dir_heatmaps = os.path.join(dir_fig, \"ts_heatmaps\")\n",
    "dir_lines = os.path.join(dir_fig, \"ts_lines\")\n",
    "\n",
    "v_valid_ts_CSVs = []\n",
    "for i, ts_csv in enumerate(v_ts_CSVs):\n",
    "    sp_id = os.path.basename(ts_csv).split('.')[0]\n",
    "    df_t = ex.clean_pge_df_ts(ts_csv, 2015).dropna()\n",
    "    df_t = df_t['Value'].squeeze()\n",
    "    dir_heatmap = os.path.join(dir_heatmaps, f\"{sp_id}.png\")\n",
    "    try:\n",
    "        ex.generate_heatmap(df_t, dir_heatmap)\n",
    "        ex.generate_ts_html(df_t, sp_id, dir_lines)\n",
    "        v_valid_ts_CSVs.append(ts_csv)\n",
    "    except:\n",
    "        pass"
   ]
  },
  {
   "cell_type": "markdown",
   "metadata": {},
   "source": [
    "#### Apply k-means clustering with features generated from pre-trained CNN model"
   ]
  },
  {
   "cell_type": "code",
   "execution_count": 13,
   "metadata": {},
   "outputs": [],
   "source": [
    "# Get conv base features\n",
    "v_heatmaps = ex.get_all_file_paths(dir_heatmaps, 'png')\n",
    "model_conv_base = ex.model_vgg16_conv_base()\n",
    "v_conv_base_features = [ex.get_conv_base_features(img, model_conv_base).flatten() for img in v_heatmaps]"
   ]
  },
  {
   "cell_type": "code",
   "execution_count": 14,
   "metadata": {},
   "outputs": [],
   "source": [
    "# Clustering (k=2 because we already know there are two distinct patterns) \n",
    "from sklearn.cluster import KMeans\n",
    "kmeans_step_1 = KMeans(n_clusters=2, random_state=0).fit(v_conv_base_features)"
   ]
  },
  {
   "cell_type": "code",
   "execution_count": 16,
   "metadata": {},
   "outputs": [],
   "source": [
    "# Copy heatmaps to corresponding cluster folder for comparison\n",
    "import shutil\n",
    "kmeans_labels_step_1 = kmeans_step_1.labels_\n",
    "step_1_out_dir = os.path.join(dir_fig, 'step_1')\n",
    "\n",
    "for i, label in enumerate(kmeans_labels_step_1):\n",
    "    cluster_dir = os.path.join(step_1_out_dir, f\"cluster_{label}\")\n",
    "    if not os.path.exists(cluster_dir):\n",
    "        os.mkdir(cluster_dir)\n",
    "    shutil.copy(v_heatmaps[i], cluster_dir)"
   ]
  },
  {
   "cell_type": "code",
   "execution_count": 17,
   "metadata": {},
   "outputs": [],
   "source": [
    "# Get the \"typical\" load profiles\n",
    "import numpy as np\n",
    "v_typical_ts_CSVs = list(np.take(v_valid_ts_CSVs, np.where(kmeans_labels_step_1==1))[0]) # Caution: cluster label might be 0 for typical load profiles\n",
    "v_typical_heatmaps = list(np.take(v_heatmaps, np.where(kmeans_labels_step_1==1))[0])"
   ]
  },
  {
   "cell_type": "markdown",
   "metadata": {},
   "source": [
    "### Step 2. Frequency-domain analysis"
   ]
  },
  {
   "cell_type": "markdown",
   "metadata": {},
   "source": [
    "#### Get frequency-domain features at daily window level.\n",
    "\n",
    "The Dicrete Fourier Transform (DFT) of a daily load profile (15-min interval, 96 timestamps in total) may yield a spectrum with the frequency ranging from 0.5 hour to 12 hour. However, different load profiles may have different peaks in the spectrums. Creating bins of frequencies allows us to group various spectrum peaks. First, we're going to explore the load profiles' variations within each day. We do the following for each building:\n",
    "1. Run DFT for each day\n",
    "2. Group the frequency spectrum features into hour-interval bins, sum the amplitudes in each bin. \n",
    "3. Explore the distributions of the amplitude sums in each bin"
   ]
  },
  {
   "cell_type": "markdown",
   "metadata": {},
   "source": [
    "In this case, we define the following hour interval bins."
   ]
  },
  {
   "cell_type": "code",
   "execution_count": 2,
   "metadata": {},
   "outputs": [
    {
     "name": "stdout",
     "output_type": "stream",
     "text": [
      "= = = = = = = = = = = = = = = = = = = = = = = = = = = = = = \n",
      "Bin 1: 0.5 Hz to 0.75 Hour --- 0.00037 Hz to 0.00056 Hz\n",
      "Bin 2: 0.75 Hz to 1 Hour --- 0.00028 Hz to 0.00037 Hz\n",
      "Bin 3: 1 Hz to 1.25 Hour --- 0.00022 Hz to 0.00028 Hz\n",
      "Bin 4: 1.25 Hz to 1.5 Hour --- 0.00019 Hz to 0.00022 Hz\n",
      "Bin 5: 1.5 Hz to 1.75 Hour --- 0.00016 Hz to 0.00019 Hz\n",
      "Bin 6: 1.75 Hz to 2 Hour --- 0.00014 Hz to 0.00016 Hz\n",
      "Bin 7: 2 Hz to 4 Hour --- 7e-05 Hz to 0.00014 Hz\n",
      "Bin 8: 4 Hz to 8 Hour --- 3e-05 Hz to 7e-05 Hz\n",
      "Bin 9: 8 Hz to 12 Hour --- 2e-05 Hz to 3e-05 Hz\n",
      "= = = = = = = = = = = = = = = = = = = = = = = = = = = = = = \n"
     ]
    }
   ],
   "source": [
    "hour_interval_bins = [\n",
    "    [0.5, 0.75],\n",
    "    [0.75, 1],\n",
    "    [1, 1.25],\n",
    "    [1.25, 1.5],\n",
    "    [1.5, 1.75],\n",
    "    [1.75, 2],\n",
    "    [2, 4],\n",
    "    [4, 8],\n",
    "    [8, 12]\n",
    "]\n",
    "\n",
    "# fd.print_hour_interval_bin_info(hour_interval_bins)\n",
    "fd.print_hour_interval_bin_info(hour_interval_bins)"
   ]
  },
  {
   "cell_type": "markdown",
   "metadata": {},
   "source": [
    "Prepare the data. An example normalized load profile look like below."
   ]
  },
  {
   "cell_type": "code",
   "execution_count": 3,
   "metadata": {},
   "outputs": [
    {
     "data": {
      "text/html": [
       "<div>\n",
       "<style scoped>\n",
       "    .dataframe tbody tr th:only-of-type {\n",
       "        vertical-align: middle;\n",
       "    }\n",
       "\n",
       "    .dataframe tbody tr th {\n",
       "        vertical-align: top;\n",
       "    }\n",
       "\n",
       "    .dataframe thead th {\n",
       "        text-align: right;\n",
       "    }\n",
       "</style>\n",
       "<table border=\"1\" class=\"dataframe\">\n",
       "  <thead>\n",
       "    <tr style=\"text-align: right;\">\n",
       "      <th></th>\n",
       "      <th>Value</th>\n",
       "      <th>date</th>\n",
       "    </tr>\n",
       "    <tr>\n",
       "      <th>Datetime</th>\n",
       "      <th></th>\n",
       "      <th></th>\n",
       "    </tr>\n",
       "  </thead>\n",
       "  <tbody>\n",
       "    <tr>\n",
       "      <th>2015-01-01 00:00:00</th>\n",
       "      <td>0.046144</td>\n",
       "      <td>2015-01-01</td>\n",
       "    </tr>\n",
       "    <tr>\n",
       "      <th>2015-01-01 00:15:00</th>\n",
       "      <td>0.061305</td>\n",
       "      <td>2015-01-01</td>\n",
       "    </tr>\n",
       "    <tr>\n",
       "      <th>2015-01-01 00:30:00</th>\n",
       "      <td>0.009888</td>\n",
       "      <td>2015-01-01</td>\n",
       "    </tr>\n",
       "    <tr>\n",
       "      <th>2015-01-01 00:45:00</th>\n",
       "      <td>0.007910</td>\n",
       "      <td>2015-01-01</td>\n",
       "    </tr>\n",
       "    <tr>\n",
       "      <th>2015-01-01 01:00:00</th>\n",
       "      <td>0.018457</td>\n",
       "      <td>2015-01-01</td>\n",
       "    </tr>\n",
       "    <tr>\n",
       "      <th>...</th>\n",
       "      <td>...</td>\n",
       "      <td>...</td>\n",
       "    </tr>\n",
       "    <tr>\n",
       "      <th>2015-12-31 22:45:00</th>\n",
       "      <td>0.000000</td>\n",
       "      <td>2015-12-31</td>\n",
       "    </tr>\n",
       "    <tr>\n",
       "      <th>2015-12-31 23:00:00</th>\n",
       "      <td>0.000000</td>\n",
       "      <td>2015-12-31</td>\n",
       "    </tr>\n",
       "    <tr>\n",
       "      <th>2015-12-31 23:15:00</th>\n",
       "      <td>0.000000</td>\n",
       "      <td>2015-12-31</td>\n",
       "    </tr>\n",
       "    <tr>\n",
       "      <th>2015-12-31 23:30:00</th>\n",
       "      <td>0.000000</td>\n",
       "      <td>2015-12-31</td>\n",
       "    </tr>\n",
       "    <tr>\n",
       "      <th>2015-12-31 23:45:00</th>\n",
       "      <td>0.000000</td>\n",
       "      <td>2015-12-31</td>\n",
       "    </tr>\n",
       "  </tbody>\n",
       "</table>\n",
       "<p>35036 rows × 2 columns</p>\n",
       "</div>"
      ],
      "text/plain": [
       "                        Value        date\n",
       "Datetime                                 \n",
       "2015-01-01 00:00:00  0.046144  2015-01-01\n",
       "2015-01-01 00:15:00  0.061305  2015-01-01\n",
       "2015-01-01 00:30:00  0.009888  2015-01-01\n",
       "2015-01-01 00:45:00  0.007910  2015-01-01\n",
       "2015-01-01 01:00:00  0.018457  2015-01-01\n",
       "...                       ...         ...\n",
       "2015-12-31 22:45:00  0.000000  2015-12-31\n",
       "2015-12-31 23:00:00  0.000000  2015-12-31\n",
       "2015-12-31 23:15:00  0.000000  2015-12-31\n",
       "2015-12-31 23:30:00  0.000000  2015-12-31\n",
       "2015-12-31 23:45:00  0.000000  2015-12-31\n",
       "\n",
       "[35036 rows x 2 columns]"
      ]
     },
     "execution_count": 3,
     "metadata": {},
     "output_type": "execute_result"
    }
   ],
   "source": [
    "import pandas as pd\n",
    "\n",
    "dir_typical_ts_CSVs = '/mnt/c/Users/hlee9/Documents/GitHub/DOE_EULP/EULP/data_all/valid_CSVs'\n",
    "dir_daily_window_dft_out = '/mnt/c/Users/hlee9/Documents/GitHub/DOE_EULP/EULP/fig/step_2'\n",
    "\n",
    "v_typical_ts_CSVs = ex.get_all_file_paths(dir_typical_ts_CSVs, 'csv')\n",
    "\n",
    "csv_in = v_typical_ts_CSVs[1]\n",
    "df_ts = ex.clean_pge_df_ts(csv_in, 2015).dropna()\n",
    "df_ts"
   ]
  },
  {
   "cell_type": "markdown",
   "metadata": {},
   "source": [
    "Below is an frequency spectrum bins example for one building."
   ]
  },
  {
   "cell_type": "code",
   "execution_count": 37,
   "metadata": {},
   "outputs": [
    {
     "data": {
      "text/html": [
       "<div>\n",
       "<style scoped>\n",
       "    .dataframe tbody tr th:only-of-type {\n",
       "        vertical-align: middle;\n",
       "    }\n",
       "\n",
       "    .dataframe tbody tr th {\n",
       "        vertical-align: top;\n",
       "    }\n",
       "\n",
       "    .dataframe thead th {\n",
       "        text-align: right;\n",
       "    }\n",
       "</style>\n",
       "<table border=\"1\" class=\"dataframe\">\n",
       "  <thead>\n",
       "    <tr style=\"text-align: right;\">\n",
       "      <th></th>\n",
       "      <th>0.5hr ~ 0.75hr</th>\n",
       "      <th>0.75hr ~ 1hr</th>\n",
       "      <th>1hr ~ 1.25hr</th>\n",
       "      <th>1.25hr ~ 1.5hr</th>\n",
       "      <th>1.5hr ~ 1.75hr</th>\n",
       "      <th>1.75hr ~ 2hr</th>\n",
       "      <th>2hr ~ 4hr</th>\n",
       "      <th>4hr ~ 8hr</th>\n",
       "      <th>8hr ~ 12hr</th>\n",
       "    </tr>\n",
       "  </thead>\n",
       "  <tbody>\n",
       "    <tr>\n",
       "      <th>count</th>\n",
       "      <td>365.000000</td>\n",
       "      <td>365.000000</td>\n",
       "      <td>365.000000</td>\n",
       "      <td>365.000000</td>\n",
       "      <td>365.000000</td>\n",
       "      <td>365.000000</td>\n",
       "      <td>365.000000</td>\n",
       "      <td>365.000000</td>\n",
       "      <td>365.000000</td>\n",
       "    </tr>\n",
       "    <tr>\n",
       "      <th>mean</th>\n",
       "      <td>0.017183</td>\n",
       "      <td>0.015575</td>\n",
       "      <td>0.012103</td>\n",
       "      <td>0.007580</td>\n",
       "      <td>0.005397</td>\n",
       "      <td>0.006020</td>\n",
       "      <td>0.025813</td>\n",
       "      <td>0.030097</td>\n",
       "      <td>0.024940</td>\n",
       "    </tr>\n",
       "    <tr>\n",
       "      <th>std</th>\n",
       "      <td>0.025052</td>\n",
       "      <td>0.033374</td>\n",
       "      <td>0.024110</td>\n",
       "      <td>0.011993</td>\n",
       "      <td>0.008124</td>\n",
       "      <td>0.008138</td>\n",
       "      <td>0.031620</td>\n",
       "      <td>0.038340</td>\n",
       "      <td>0.029470</td>\n",
       "    </tr>\n",
       "    <tr>\n",
       "      <th>min</th>\n",
       "      <td>0.000104</td>\n",
       "      <td>0.000053</td>\n",
       "      <td>0.000027</td>\n",
       "      <td>0.000017</td>\n",
       "      <td>0.000012</td>\n",
       "      <td>0.000015</td>\n",
       "      <td>0.000054</td>\n",
       "      <td>0.000061</td>\n",
       "      <td>0.000036</td>\n",
       "    </tr>\n",
       "    <tr>\n",
       "      <th>25%</th>\n",
       "      <td>0.004586</td>\n",
       "      <td>0.003386</td>\n",
       "      <td>0.002500</td>\n",
       "      <td>0.001902</td>\n",
       "      <td>0.001394</td>\n",
       "      <td>0.001508</td>\n",
       "      <td>0.008164</td>\n",
       "      <td>0.007846</td>\n",
       "      <td>0.005537</td>\n",
       "    </tr>\n",
       "    <tr>\n",
       "      <th>50%</th>\n",
       "      <td>0.007278</td>\n",
       "      <td>0.005523</td>\n",
       "      <td>0.004538</td>\n",
       "      <td>0.003136</td>\n",
       "      <td>0.002441</td>\n",
       "      <td>0.002898</td>\n",
       "      <td>0.012923</td>\n",
       "      <td>0.015167</td>\n",
       "      <td>0.017393</td>\n",
       "    </tr>\n",
       "    <tr>\n",
       "      <th>75%</th>\n",
       "      <td>0.018254</td>\n",
       "      <td>0.014437</td>\n",
       "      <td>0.009052</td>\n",
       "      <td>0.006442</td>\n",
       "      <td>0.004956</td>\n",
       "      <td>0.005634</td>\n",
       "      <td>0.021584</td>\n",
       "      <td>0.025525</td>\n",
       "      <td>0.025214</td>\n",
       "    </tr>\n",
       "    <tr>\n",
       "      <th>max</th>\n",
       "      <td>0.159805</td>\n",
       "      <td>0.274048</td>\n",
       "      <td>0.190406</td>\n",
       "      <td>0.083918</td>\n",
       "      <td>0.059297</td>\n",
       "      <td>0.054863</td>\n",
       "      <td>0.160962</td>\n",
       "      <td>0.276530</td>\n",
       "      <td>0.161156</td>\n",
       "    </tr>\n",
       "  </tbody>\n",
       "</table>\n",
       "</div>"
      ],
      "text/plain": [
       "       0.5hr ~ 0.75hr  0.75hr ~ 1hr  1hr ~ 1.25hr  1.25hr ~ 1.5hr  \\\n",
       "count      365.000000    365.000000    365.000000      365.000000   \n",
       "mean         0.017183      0.015575      0.012103        0.007580   \n",
       "std          0.025052      0.033374      0.024110        0.011993   \n",
       "min          0.000104      0.000053      0.000027        0.000017   \n",
       "25%          0.004586      0.003386      0.002500        0.001902   \n",
       "50%          0.007278      0.005523      0.004538        0.003136   \n",
       "75%          0.018254      0.014437      0.009052        0.006442   \n",
       "max          0.159805      0.274048      0.190406        0.083918   \n",
       "\n",
       "       1.5hr ~ 1.75hr  1.75hr ~ 2hr   2hr ~ 4hr   4hr ~ 8hr  8hr ~ 12hr  \n",
       "count      365.000000    365.000000  365.000000  365.000000  365.000000  \n",
       "mean         0.005397      0.006020    0.025813    0.030097    0.024940  \n",
       "std          0.008124      0.008138    0.031620    0.038340    0.029470  \n",
       "min          0.000012      0.000015    0.000054    0.000061    0.000036  \n",
       "25%          0.001394      0.001508    0.008164    0.007846    0.005537  \n",
       "50%          0.002441      0.002898    0.012923    0.015167    0.017393  \n",
       "75%          0.004956      0.005634    0.021584    0.025525    0.025214  \n",
       "max          0.059297      0.054863    0.160962    0.276530    0.161156  "
      ]
     },
     "execution_count": 37,
     "metadata": {},
     "output_type": "execute_result"
    },
    {
     "data": {
      "image/png": "[encoded data removed]",
      "text/plain": [
       "<Figure size 1008x504 with 1 Axes>"
      ]
     },
     "metadata": {},
     "output_type": "display_data"
    }
   ],
   "source": [
    "df = fd.get_daily_fft_sum_bins(df_ts, hour_interval_bins)\n",
    "fd.daily_fft_sum_bins_boxplot(df)\n",
    "df.describe()"
   ]
  },
  {
   "cell_type": "markdown",
   "metadata": {},
   "source": [
    "Generate the frequency sprectrum bins for each building, save the boxplot."
   ]
  },
  {
   "cell_type": "code",
   "execution_count": null,
   "metadata": {},
   "outputs": [],
   "source": [
    "for i, ts_csv in enumerate(v_typical_ts_CSVs):\n",
    "    print(dir_daily_window_dft_out)\n",
    "    sp_id = os.path.basename(ts_csv).split('.')[0]\n",
    "    df_ts = ex.clean_pge_df_ts(ts_csv, 2015).dropna()\n",
    "    df = fd.get_daily_fft_sum_bins(df_ts, hour_interval_bins)\n",
    "    fd.daily_fft_sum_bins_boxplot(df, title_key=sp_id, save_path=f\"{dir_daily_window_dft_out}/{sp_id}.png\")"
   ]
  },
  {
   "cell_type": "markdown",
   "metadata": {},
   "source": [
    "Next, we can cluster the daily frequency spectrum bins and see how they are distributed in each building."
   ]
  },
  {
   "cell_type": "code",
   "execution_count": 5,
   "metadata": {},
   "outputs": [],
   "source": [
    "# Prepare the clustering input\n",
    "\n",
    "for i, ts_csv in enumerate(v_typical_ts_CSVs):\n",
    "    sp_id = os.path.basename(ts_csv).split('.')[0]\n",
    "    df_ts = ex.clean_pge_df_ts(ts_csv, 2015).dropna()\n",
    "    df = fd.get_daily_fft_sum_bins(df_ts, hour_interval_bins)\n",
    "    df['sp_id'] = sp_id\n",
    "    if i == 0:\n",
    "        df_all = df\n",
    "    else:\n",
    "        df_all = df_all.append(df)"
   ]
  },
  {
   "cell_type": "code",
   "execution_count": 6,
   "metadata": {},
   "outputs": [
    {
     "data": {
      "text/html": [
       "<div>\n",
       "<style scoped>\n",
       "    .dataframe tbody tr th:only-of-type {\n",
       "        vertical-align: middle;\n",
       "    }\n",
       "\n",
       "    .dataframe tbody tr th {\n",
       "        vertical-align: top;\n",
       "    }\n",
       "\n",
       "    .dataframe thead th {\n",
       "        text-align: right;\n",
       "    }\n",
       "</style>\n",
       "<table border=\"1\" class=\"dataframe\">\n",
       "  <thead>\n",
       "    <tr style=\"text-align: right;\">\n",
       "      <th></th>\n",
       "      <th>0.5hr ~ 0.75hr</th>\n",
       "      <th>0.75hr ~ 1hr</th>\n",
       "      <th>1hr ~ 1.25hr</th>\n",
       "      <th>1.25hr ~ 1.5hr</th>\n",
       "      <th>1.5hr ~ 1.75hr</th>\n",
       "      <th>1.75hr ~ 2hr</th>\n",
       "      <th>2hr ~ 4hr</th>\n",
       "      <th>4hr ~ 8hr</th>\n",
       "      <th>8hr ~ 12hr</th>\n",
       "      <th>sp_id</th>\n",
       "    </tr>\n",
       "  </thead>\n",
       "  <tbody>\n",
       "    <tr>\n",
       "      <th>2015-01-01</th>\n",
       "      <td>0.003745</td>\n",
       "      <td>0.001777</td>\n",
       "      <td>0.002606</td>\n",
       "      <td>0.002935</td>\n",
       "      <td>0.001881</td>\n",
       "      <td>0.001651</td>\n",
       "      <td>0.015052</td>\n",
       "      <td>0.021733</td>\n",
       "      <td>0.006778</td>\n",
       "      <td>1004541105</td>\n",
       "    </tr>\n",
       "    <tr>\n",
       "      <th>2015-01-02</th>\n",
       "      <td>0.014731</td>\n",
       "      <td>0.012856</td>\n",
       "      <td>0.019067</td>\n",
       "      <td>0.011045</td>\n",
       "      <td>0.003347</td>\n",
       "      <td>0.012344</td>\n",
       "      <td>0.058541</td>\n",
       "      <td>0.083813</td>\n",
       "      <td>0.037914</td>\n",
       "      <td>1004541105</td>\n",
       "    </tr>\n",
       "    <tr>\n",
       "      <th>2015-01-03</th>\n",
       "      <td>0.003062</td>\n",
       "      <td>0.001408</td>\n",
       "      <td>0.000626</td>\n",
       "      <td>0.000825</td>\n",
       "      <td>0.000851</td>\n",
       "      <td>0.000998</td>\n",
       "      <td>0.009514</td>\n",
       "      <td>0.010219</td>\n",
       "      <td>0.003859</td>\n",
       "      <td>1004541105</td>\n",
       "    </tr>\n",
       "    <tr>\n",
       "      <th>2015-01-04</th>\n",
       "      <td>0.003704</td>\n",
       "      <td>0.001439</td>\n",
       "      <td>0.001624</td>\n",
       "      <td>0.000606</td>\n",
       "      <td>0.000373</td>\n",
       "      <td>0.000698</td>\n",
       "      <td>0.004731</td>\n",
       "      <td>0.003662</td>\n",
       "      <td>0.001223</td>\n",
       "      <td>1004541105</td>\n",
       "    </tr>\n",
       "    <tr>\n",
       "      <th>2015-01-05</th>\n",
       "      <td>0.022194</td>\n",
       "      <td>0.018798</td>\n",
       "      <td>0.011633</td>\n",
       "      <td>0.014747</td>\n",
       "      <td>0.007909</td>\n",
       "      <td>0.007953</td>\n",
       "      <td>0.033602</td>\n",
       "      <td>0.092317</td>\n",
       "      <td>0.055789</td>\n",
       "      <td>1004541105</td>\n",
       "    </tr>\n",
       "    <tr>\n",
       "      <th>...</th>\n",
       "      <td>...</td>\n",
       "      <td>...</td>\n",
       "      <td>...</td>\n",
       "      <td>...</td>\n",
       "      <td>...</td>\n",
       "      <td>...</td>\n",
       "      <td>...</td>\n",
       "      <td>...</td>\n",
       "      <td>...</td>\n",
       "      <td>...</td>\n",
       "    </tr>\n",
       "    <tr>\n",
       "      <th>2015-12-27</th>\n",
       "      <td>0.002954</td>\n",
       "      <td>0.000859</td>\n",
       "      <td>0.001484</td>\n",
       "      <td>0.001126</td>\n",
       "      <td>0.000539</td>\n",
       "      <td>0.001323</td>\n",
       "      <td>0.003883</td>\n",
       "      <td>0.002965</td>\n",
       "      <td>0.002024</td>\n",
       "      <td>9882916598</td>\n",
       "    </tr>\n",
       "    <tr>\n",
       "      <th>2015-12-28</th>\n",
       "      <td>0.002821</td>\n",
       "      <td>0.001461</td>\n",
       "      <td>0.000897</td>\n",
       "      <td>0.000950</td>\n",
       "      <td>0.000724</td>\n",
       "      <td>0.000583</td>\n",
       "      <td>0.003684</td>\n",
       "      <td>0.003293</td>\n",
       "      <td>0.002066</td>\n",
       "      <td>9882916598</td>\n",
       "    </tr>\n",
       "    <tr>\n",
       "      <th>2015-12-29</th>\n",
       "      <td>0.003917</td>\n",
       "      <td>0.003150</td>\n",
       "      <td>0.003259</td>\n",
       "      <td>0.001177</td>\n",
       "      <td>0.000417</td>\n",
       "      <td>0.000851</td>\n",
       "      <td>0.007942</td>\n",
       "      <td>0.007558</td>\n",
       "      <td>0.002548</td>\n",
       "      <td>9882916598</td>\n",
       "    </tr>\n",
       "    <tr>\n",
       "      <th>2015-12-30</th>\n",
       "      <td>0.015991</td>\n",
       "      <td>0.024976</td>\n",
       "      <td>0.006578</td>\n",
       "      <td>0.008682</td>\n",
       "      <td>0.012126</td>\n",
       "      <td>0.019515</td>\n",
       "      <td>0.088153</td>\n",
       "      <td>0.059139</td>\n",
       "      <td>0.023728</td>\n",
       "      <td>9882916598</td>\n",
       "    </tr>\n",
       "    <tr>\n",
       "      <th>2015-12-31</th>\n",
       "      <td>0.002405</td>\n",
       "      <td>0.001085</td>\n",
       "      <td>0.000702</td>\n",
       "      <td>0.001844</td>\n",
       "      <td>0.001903</td>\n",
       "      <td>0.001553</td>\n",
       "      <td>0.003066</td>\n",
       "      <td>0.003234</td>\n",
       "      <td>0.002376</td>\n",
       "      <td>9882916598</td>\n",
       "    </tr>\n",
       "  </tbody>\n",
       "</table>\n",
       "<p>67526 rows × 10 columns</p>\n",
       "</div>"
      ],
      "text/plain": [
       "            0.5hr ~ 0.75hr  0.75hr ~ 1hr  1hr ~ 1.25hr  1.25hr ~ 1.5hr  \\\n",
       "2015-01-01        0.003745      0.001777      0.002606        0.002935   \n",
       "2015-01-02        0.014731      0.012856      0.019067        0.011045   \n",
       "2015-01-03        0.003062      0.001408      0.000626        0.000825   \n",
       "2015-01-04        0.003704      0.001439      0.001624        0.000606   \n",
       "2015-01-05        0.022194      0.018798      0.011633        0.014747   \n",
       "...                    ...           ...           ...             ...   \n",
       "2015-12-27        0.002954      0.000859      0.001484        0.001126   \n",
       "2015-12-28        0.002821      0.001461      0.000897        0.000950   \n",
       "2015-12-29        0.003917      0.003150      0.003259        0.001177   \n",
       "2015-12-30        0.015991      0.024976      0.006578        0.008682   \n",
       "2015-12-31        0.002405      0.001085      0.000702        0.001844   \n",
       "\n",
       "            1.5hr ~ 1.75hr  1.75hr ~ 2hr  2hr ~ 4hr  4hr ~ 8hr  8hr ~ 12hr  \\\n",
       "2015-01-01        0.001881      0.001651   0.015052   0.021733    0.006778   \n",
       "2015-01-02        0.003347      0.012344   0.058541   0.083813    0.037914   \n",
       "2015-01-03        0.000851      0.000998   0.009514   0.010219    0.003859   \n",
       "2015-01-04        0.000373      0.000698   0.004731   0.003662    0.001223   \n",
       "2015-01-05        0.007909      0.007953   0.033602   0.092317    0.055789   \n",
       "...                    ...           ...        ...        ...         ...   \n",
       "2015-12-27        0.000539      0.001323   0.003883   0.002965    0.002024   \n",
       "2015-12-28        0.000724      0.000583   0.003684   0.003293    0.002066   \n",
       "2015-12-29        0.000417      0.000851   0.007942   0.007558    0.002548   \n",
       "2015-12-30        0.012126      0.019515   0.088153   0.059139    0.023728   \n",
       "2015-12-31        0.001903      0.001553   0.003066   0.003234    0.002376   \n",
       "\n",
       "                 sp_id  \n",
       "2015-01-01  1004541105  \n",
       "2015-01-02  1004541105  \n",
       "2015-01-03  1004541105  \n",
       "2015-01-04  1004541105  \n",
       "2015-01-05  1004541105  \n",
       "...                ...  \n",
       "2015-12-27  9882916598  \n",
       "2015-12-28  9882916598  \n",
       "2015-12-29  9882916598  \n",
       "2015-12-30  9882916598  \n",
       "2015-12-31  9882916598  \n",
       "\n",
       "[67526 rows x 10 columns]"
      ]
     },
     "execution_count": 6,
     "metadata": {},
     "output_type": "execute_result"
    }
   ],
   "source": [
    "df_all"
   ]
  },
  {
   "cell_type": "markdown",
   "metadata": {},
   "source": [
    "Find the optimal number of clusters"
   ]
  },
  {
   "cell_type": "code",
   "execution_count": 38,
   "metadata": {},
   "outputs": [
    {
     "data": {
      "image/png": "[encoded data removed]",
      "text/plain": [
       "<Figure size 576x396 with 2 Axes>"
      ]
     },
     "metadata": {},
     "output_type": "display_data"
    },
    {
     "data": {
      "text/plain": [
       "<matplotlib.axes._subplots.AxesSubplot at 0x7f05977cb128>"
      ]
     },
     "execution_count": 38,
     "metadata": {},
     "output_type": "execute_result"
    }
   ],
   "source": [
    "# Select n\n",
    "from sklearn import preprocessing\n",
    "from sklearn.cluster import KMeans\n",
    "from yellowbrick.cluster import KElbowVisualizer\n",
    "\n",
    "# Whether to standardize features\n",
    "standard_feature = True\n",
    "standard_feature = False\n",
    "\n",
    "scaler = preprocessing.StandardScaler()\n",
    "if standard_feature:\n",
    "    fft_data = scaler.fit_transform(df_all.iloc[:, 0:-1])\n",
    "else:\n",
    "    fft_data = df_all.iloc[:, 0:-1].to_numpy()\n",
    "\n",
    "model = KMeans()\n",
    "visualizer = KElbowVisualizer(model, k=(2,25))\n",
    "visualizer.fit(fft_data) # Fit the data to the visualizer\n",
    "visualizer.show()        # Finalize and render the figure"
   ]
  },
  {
   "cell_type": "markdown",
   "metadata": {},
   "source": [
    "Run K-Means clustering with the selected k "
   ]
  },
  {
   "cell_type": "code",
   "execution_count": 41,
   "metadata": {},
   "outputs": [
    {
     "data": {
      "text/plain": [
       "(67526,)"
      ]
     },
     "execution_count": 41,
     "metadata": {},
     "output_type": "execute_result"
    }
   ],
   "source": [
    "# Actual clustering\n",
    "kmeans = KMeans(n_clusters=6, init='random', n_init=5)\n",
    "KM_model = kmeans.fit(fft_data)\n",
    "kmeans.fit_predict(fft_data)\n",
    "kmeans_labels = kmeans.labels_\n",
    "kmeans_labels.shape"
   ]
  },
  {
   "cell_type": "markdown",
   "metadata": {},
   "source": [
    "Count the each cluster's appearance in each building "
   ]
  },
  {
   "cell_type": "code",
   "execution_count": 42,
   "metadata": {},
   "outputs": [
    {
     "data": {
      "text/html": [
       "<div>\n",
       "<style scoped>\n",
       "    .dataframe tbody tr th:only-of-type {\n",
       "        vertical-align: middle;\n",
       "    }\n",
       "\n",
       "    .dataframe tbody tr th {\n",
       "        vertical-align: top;\n",
       "    }\n",
       "\n",
       "    .dataframe thead th {\n",
       "        text-align: right;\n",
       "    }\n",
       "</style>\n",
       "<table border=\"1\" class=\"dataframe\">\n",
       "  <thead>\n",
       "    <tr style=\"text-align: right;\">\n",
       "      <th></th>\n",
       "      <th>Cluster 0</th>\n",
       "      <th>Cluster 1</th>\n",
       "      <th>Cluster 2</th>\n",
       "      <th>Cluster 3</th>\n",
       "      <th>Cluster 4</th>\n",
       "      <th>Cluster 5</th>\n",
       "    </tr>\n",
       "  </thead>\n",
       "  <tbody>\n",
       "    <tr>\n",
       "      <th>1004541105</th>\n",
       "      <td>25</td>\n",
       "      <td>9</td>\n",
       "      <td>57</td>\n",
       "      <td>40</td>\n",
       "      <td>4</td>\n",
       "      <td>230</td>\n",
       "    </tr>\n",
       "    <tr>\n",
       "      <th>1038833405</th>\n",
       "      <td>1</td>\n",
       "      <td>0</td>\n",
       "      <td>142</td>\n",
       "      <td>3</td>\n",
       "      <td>109</td>\n",
       "      <td>110</td>\n",
       "    </tr>\n",
       "    <tr>\n",
       "      <th>1168461705</th>\n",
       "      <td>0</td>\n",
       "      <td>1</td>\n",
       "      <td>270</td>\n",
       "      <td>0</td>\n",
       "      <td>0</td>\n",
       "      <td>94</td>\n",
       "    </tr>\n",
       "    <tr>\n",
       "      <th>1223184997</th>\n",
       "      <td>12</td>\n",
       "      <td>53</td>\n",
       "      <td>98</td>\n",
       "      <td>0</td>\n",
       "      <td>1</td>\n",
       "      <td>201</td>\n",
       "    </tr>\n",
       "    <tr>\n",
       "      <th>1262200205</th>\n",
       "      <td>0</td>\n",
       "      <td>4</td>\n",
       "      <td>358</td>\n",
       "      <td>0</td>\n",
       "      <td>0</td>\n",
       "      <td>3</td>\n",
       "    </tr>\n",
       "    <tr>\n",
       "      <th>...</th>\n",
       "      <td>...</td>\n",
       "      <td>...</td>\n",
       "      <td>...</td>\n",
       "      <td>...</td>\n",
       "      <td>...</td>\n",
       "      <td>...</td>\n",
       "    </tr>\n",
       "    <tr>\n",
       "      <th>9664779554</th>\n",
       "      <td>17</td>\n",
       "      <td>22</td>\n",
       "      <td>147</td>\n",
       "      <td>20</td>\n",
       "      <td>32</td>\n",
       "      <td>127</td>\n",
       "    </tr>\n",
       "    <tr>\n",
       "      <th>9740493105</th>\n",
       "      <td>32</td>\n",
       "      <td>18</td>\n",
       "      <td>154</td>\n",
       "      <td>0</td>\n",
       "      <td>57</td>\n",
       "      <td>104</td>\n",
       "    </tr>\n",
       "    <tr>\n",
       "      <th>9761537105</th>\n",
       "      <td>1</td>\n",
       "      <td>125</td>\n",
       "      <td>189</td>\n",
       "      <td>0</td>\n",
       "      <td>6</td>\n",
       "      <td>44</td>\n",
       "    </tr>\n",
       "    <tr>\n",
       "      <th>9849868105</th>\n",
       "      <td>0</td>\n",
       "      <td>2</td>\n",
       "      <td>11</td>\n",
       "      <td>168</td>\n",
       "      <td>176</td>\n",
       "      <td>8</td>\n",
       "    </tr>\n",
       "    <tr>\n",
       "      <th>9882916598</th>\n",
       "      <td>5</td>\n",
       "      <td>24</td>\n",
       "      <td>44</td>\n",
       "      <td>7</td>\n",
       "      <td>6</td>\n",
       "      <td>279</td>\n",
       "    </tr>\n",
       "  </tbody>\n",
       "</table>\n",
       "<p>188 rows × 6 columns</p>\n",
       "</div>"
      ],
      "text/plain": [
       "            Cluster 0  Cluster 1  Cluster 2  Cluster 3  Cluster 4  Cluster 5\n",
       "1004541105         25          9         57         40          4        230\n",
       "1038833405          1          0        142          3        109        110\n",
       "1168461705          0          1        270          0          0         94\n",
       "1223184997         12         53         98          0          1        201\n",
       "1262200205          0          4        358          0          0          3\n",
       "...               ...        ...        ...        ...        ...        ...\n",
       "9664779554         17         22        147         20         32        127\n",
       "9740493105         32         18        154          0         57        104\n",
       "9761537105          1        125        189          0          6         44\n",
       "9849868105          0          2         11        168        176          8\n",
       "9882916598          5         24         44          7          6        279\n",
       "\n",
       "[188 rows x 6 columns]"
      ]
     },
     "execution_count": 42,
     "metadata": {},
     "output_type": "execute_result"
    }
   ],
   "source": [
    "v_sp_ids = df_all['sp_id']\n",
    "\n",
    "dict_cluster_count = {}\n",
    "for c in np.unique(kmeans_labels):\n",
    "    ls_c = []\n",
    "    arr_temp = np.take(np.array(v_sp_ids), np.where(kmeans_labels==c))[0]\n",
    "    for sp_id in np.unique(v_sp_ids):\n",
    "        ls_c.append(np.count_nonzero(arr_temp == sp_id))\n",
    "    dict_cluster_count[f\"Cluster {c}\"] = ls_c\n",
    "\n",
    "df_cluster_count = pd.DataFrame(dict_cluster_count)\n",
    "df_cluster_count.index = np.unique(v_sp_ids)\n",
    "\n",
    "# pd.set_option('display.max_rows', None, 'display.max_columns', None)\n",
    "df_cluster_count"
   ]
  },
  {
   "cell_type": "markdown",
   "metadata": {},
   "source": [
    "Visualize cluster centers"
   ]
  },
  {
   "cell_type": "code",
   "execution_count": 46,
   "metadata": {},
   "outputs": [
    {
     "data": {
      "text/plain": [
       "Text(0, 0.5, 'Sum of Amplitudes')"
      ]
     },
     "execution_count": 46,
     "metadata": {},
     "output_type": "execute_result"
    },
    {
     "data": {
      "image/png": "[encoded data removed]",
      "text/plain": [
       "<Figure size 720x288 with 1 Axes>"
      ]
     },
     "metadata": {},
     "output_type": "display_data"
    }
   ],
   "source": [
    "df_cluster_center = pd.DataFrame(kmeans.cluster_centers_, columns=df_all.columns[:-1], dtype = float)\n",
    "\n",
    "plt.figure(figsize=(10,4))\n",
    "df_cluster_center.T.plot.bar(ax = plt.gca(), rot=15)\n",
    "plt.title('Cluster Center')\n",
    "plt.xlabel('Frequency Bins')\n",
    "plt.ylabel('Sum of Amplitudes')"
   ]
  },
  {
   "cell_type": "markdown",
   "metadata": {},
   "source": [
    "Visualize cluster counts"
   ]
  },
  {
   "cell_type": "code",
   "execution_count": 47,
   "metadata": {},
   "outputs": [
    {
     "data": {
      "text/plain": [
       "Text(0, 0.5, 'Count')"
      ]
     },
     "execution_count": 47,
     "metadata": {},
     "output_type": "execute_result"
    },
    {
     "data": {
      "image/png": "[encoded data removed]",
      "text/plain": [
       "<Figure size 648x360 with 1 Axes>"
      ]
     },
     "metadata": {},
     "output_type": "display_data"
    }
   ],
   "source": [
    "plt.figure(figsize=(9,5))\n",
    "# df_cluster_count.T.plot.bar(ax = plt.gca(), rot=0, legend=False)\n",
    "df_cluster_count.sum(axis=0).plot.bar(ax = plt.gca(), rot=0, legend=False)\n",
    "plt.title('Daily Load Profile Frequency Spectrum Bins by Clusters')\n",
    "plt.xlabel('Clusters')\n",
    "plt.ylabel('Count')"
   ]
  },
  {
   "cell_type": "markdown",
   "metadata": {},
   "source": [
    "Save the session if we want to use the clustering result next time."
   ]
  },
  {
   "cell_type": "code",
   "execution_count": 49,
   "metadata": {},
   "outputs": [],
   "source": [
    "import dill\n",
    "dill.dump_session('dft_env.db')\n",
    "# dill.load_session('dft_env.db') # load it"
   ]
  }
 ],
 "metadata": {
  "kernelspec": {
   "display_name": "Python 3",
   "language": "python",
   "name": "python3"
  },
  "language_info": {
   "codemirror_mode": {
    "name": "ipython",
    "version": 3
   },
   "file_extension": ".py",
   "mimetype": "text/x-python",
   "name": "python",
   "nbconvert_exporter": "python",
   "pygments_lexer": "ipython3",
   "version": "3.6.10"
  }
 },
 "nbformat": 4,
 "nbformat_minor": 4
}
