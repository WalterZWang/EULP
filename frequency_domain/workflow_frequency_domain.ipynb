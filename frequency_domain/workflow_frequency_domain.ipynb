{
 "cells": [
  {
   "cell_type": "markdown",
   "metadata": {},
   "source": [
    "## This notebook contains routines to analyze the electric load profiles from PG&E office building\n",
    "#### Brief description of this workflow:\n",
    "1. Pre-processing (skip this step your if you have cleaned data)\n",
    "    - Extract data for a building type (e.g. office building in our case)\n",
    "    - Remove empty and problematic data\n",
    "    - Convert data into dataframes ([example](../data_all/1004541105.csv))\n",
    "    - Get typical building load profiles\n",
    "        - Create annual heatmaps\n",
    "        - Use pre-trained CNN model and k-means clustering to distinguish typical building loads (high-load during daytime) and non-typical loads (e.g., high-load during night time)\n",
    "2. Conduct Frequency-Domain analysis\n",
    "    - Annual analysis\n",
    "        - Create bins to group high, medium, and low frequency features\n",
    "    - Daily analysis\n",
    "        - How"
   ]
  },
  {
   "cell_type": "markdown",
   "metadata": {},
   "source": [
    "### Setup the path and import utility libraries (Needed for first-time run)"
   ]
  },
  {
   "cell_type": "code",
   "execution_count": 1,
   "metadata": {},
   "outputs": [
    {
     "name": "stdout",
     "output_type": "stream",
     "text": [
      "/mnt/c/Users/hlee9/Documents/GitHub/DOE_EULP/EULP\n"
     ]
    },
    {
     "name": "stderr",
     "output_type": "stream",
     "text": [
      "Using TensorFlow backend.\n"
     ]
    }
   ],
   "source": [
    "%pwd\n",
    "%cd ..\n",
    "\n",
    "# Import utility functions\n",
    "# Change directory to the EULP root path, use %cd path_to_EULP\n",
    "import os\n",
    "from lib import data_exploration_utils as ex\n",
    "from lib import frequency_domain_utils as fd\n",
    "dir_root = %pwd\n",
    "dir_data = os.path.join(dir_root, \"data_all\")\n",
    "dir_fig = os.path.join(dir_root, \"fig\")"
   ]
  },
  {
   "cell_type": "markdown",
   "metadata": {},
   "source": [
    "### Step 1. Pre-processing (optional)\n",
    "Previously, we found some load profiles have high-peak during the night time, we want to explore how those load profile look like and whether we should separate them from typical load profiles."
   ]
  },
  {
   "cell_type": "markdown",
   "metadata": {},
   "source": [
    "#### Generate heatmaps and time-series line plot for visualization"
   ]
  },
  {
   "cell_type": "code",
   "execution_count": null,
   "metadata": {},
   "outputs": [],
   "source": [
    "v_ts_CSVs = ex.get_all_file_paths(dir_data, 'csv')\n",
    "# Create these paths if not exist\n",
    "dir_heatmaps = os.path.join(dir_fig, \"ts_heatmaps\")\n",
    "dir_lines = os.path.join(dir_fig, \"ts_lines\")\n",
    "\n",
    "v_valid_ts_CSVs = []\n",
    "for i, ts_csv in enumerate(v_ts_CSVs):\n",
    "    sp_id = os.path.basename(ts_csv).split('.')[0]\n",
    "    df_t = ex.clean_pge_df_ts(ts_csv, 2015).dropna()\n",
    "    df_t = df_t['Value'].squeeze()\n",
    "    dir_heatmap = os.path.join(dir_heatmaps, f\"{sp_id}.png\")\n",
    "    try:\n",
    "        ex.generate_heatmap(df_t, dir_heatmap)\n",
    "        ex.generate_ts_html(df_t, sp_id, dir_lines)\n",
    "        v_valid_ts_CSVs.append(ts_csv)\n",
    "    except:\n",
    "        pass"
   ]
  },
  {
   "cell_type": "markdown",
   "metadata": {},
   "source": [
    "#### Apply k-means clustering with features generated from pre-trained CNN model"
   ]
  },
  {
   "cell_type": "code",
   "execution_count": 13,
   "metadata": {},
   "outputs": [],
   "source": [
    "# Get conv base features\n",
    "v_heatmaps = ex.get_all_file_paths(dir_heatmaps, 'png')\n",
    "model_conv_base = ex.model_vgg16_conv_base()\n",
    "v_conv_base_features = [ex.get_conv_base_features(img, model_conv_base).flatten() for img in v_heatmaps]"
   ]
  },
  {
   "cell_type": "code",
   "execution_count": 14,
   "metadata": {},
   "outputs": [],
   "source": [
    "# Clustering (k=2 because we already know there are two distinct patterns) \n",
    "from sklearn.cluster import KMeans\n",
    "kmeans_step_1 = KMeans(n_clusters=2, random_state=0).fit(v_conv_base_features)"
   ]
  },
  {
   "cell_type": "code",
   "execution_count": 16,
   "metadata": {},
   "outputs": [],
   "source": [
    "# Copy heatmaps to corresponding cluster folder for comparison\n",
    "import shutil\n",
    "kmeans_labels_step_1 = kmeans_step_1.labels_\n",
    "step_1_out_dir = os.path.join(dir_fig, 'step_1')\n",
    "\n",
    "for i, label in enumerate(kmeans_labels_step_1):\n",
    "    cluster_dir = os.path.join(step_1_out_dir, f\"cluster_{label}\")\n",
    "    if not os.path.exists(cluster_dir):\n",
    "        os.mkdir(cluster_dir)\n",
    "    shutil.copy(v_heatmaps[i], cluster_dir)"
   ]
  },
  {
   "cell_type": "code",
   "execution_count": 17,
   "metadata": {},
   "outputs": [],
   "source": [
    "# Get the \"typical\" load profiles\n",
    "import numpy as np\n",
    "v_typical_ts_CSVs = list(np.take(v_valid_ts_CSVs, np.where(kmeans_labels_step_1==1))[0]) # Caution: cluster label might be 0 for typical load profiles\n",
    "v_typical_heatmaps = list(np.take(v_heatmaps, np.where(kmeans_labels_step_1==1))[0])"
   ]
  },
  {
   "cell_type": "markdown",
   "metadata": {},
   "source": [
    "### Step 2. Frequency-domain analysis"
   ]
  },
  {
   "cell_type": "markdown",
   "metadata": {},
   "source": [
    "#### Get frequency-domain features at daily window level.\n",
    "\n",
    "The Dicrete Fourier Transform (DFT) of a daily load profile (15-min interval, 96 timestamps in total) may yield a spectrum with the frequency ranging from 0.5 hour to 12 hour. However, different load profiles may have different peaks in the spectrums. Creating bins of frequencies allows us to group various spectrum peaks. First, we're going to explore the load profiles' variations within each day. We do the following for each building:\n",
    "1. Run DFT for each day\n",
    "2. Group the frequency spectrum features into hour-interval bins, sum the amplitudes in each bin. \n",
    "3. Explore the distributions of the amplitude sums in each bin"
   ]
  },
  {
   "cell_type": "markdown",
   "metadata": {},
   "source": [
    "In this case, we define the following hour interval bins."
   ]
  },
  {
   "cell_type": "code",
   "execution_count": 2,
   "metadata": {},
   "outputs": [
    {
     "name": "stdout",
     "output_type": "stream",
     "text": [
      "= = = = = = = = = = = = = = = = = = = = \n",
      "Bin 1: 0.00037 Hz to 0.00056 Hz\n",
      "Bin 2: 0.00028 Hz to 0.00037 Hz\n",
      "Bin 3: 0.00022 Hz to 0.00028 Hz\n",
      "Bin 4: 0.00019 Hz to 0.00022 Hz\n",
      "Bin 5: 0.00016 Hz to 0.00019 Hz\n",
      "Bin 6: 0.00014 Hz to 0.00016 Hz\n",
      "Bin 7: 7e-05 Hz to 0.00014 Hz\n",
      "Bin 8: 3e-05 Hz to 7e-05 Hz\n",
      "Bin 9: 2e-05 Hz to 3e-05 Hz\n",
      "= = = = = = = = = = = = = = = = = = = = \n"
     ]
    }
   ],
   "source": [
    "hour_interval_bins = [\n",
    "    [0.5, 0.75],\n",
    "    [0.75, 1],\n",
    "    [1, 1.25],\n",
    "    [1.25, 1.5],\n",
    "    [1.5, 1.75],\n",
    "    [1.75, 2],\n",
    "    [2, 4],\n",
    "    [4, 8],\n",
    "    [8, 12]\n",
    "]\n",
    "\n",
    "fd.print_hour_interval_bin_info(hour_interval_bins)"
   ]
  },
  {
   "cell_type": "markdown",
   "metadata": {},
   "source": [
    "Prepare the data. An example normalized load profile look like below."
   ]
  },
  {
   "cell_type": "code",
   "execution_count": 3,
   "metadata": {},
   "outputs": [
    {
     "data": {
      "text/html": [
       "<div>\n",
       "<style scoped>\n",
       "    .dataframe tbody tr th:only-of-type {\n",
       "        vertical-align: middle;\n",
       "    }\n",
       "\n",
       "    .dataframe tbody tr th {\n",
       "        vertical-align: top;\n",
       "    }\n",
       "\n",
       "    .dataframe thead th {\n",
       "        text-align: right;\n",
       "    }\n",
       "</style>\n",
       "<table border=\"1\" class=\"dataframe\">\n",
       "  <thead>\n",
       "    <tr style=\"text-align: right;\">\n",
       "      <th></th>\n",
       "      <th>Value</th>\n",
       "      <th>date</th>\n",
       "    </tr>\n",
       "    <tr>\n",
       "      <th>Datetime</th>\n",
       "      <th></th>\n",
       "      <th></th>\n",
       "    </tr>\n",
       "  </thead>\n",
       "  <tbody>\n",
       "    <tr>\n",
       "      <th>2015-01-01 00:00:00</th>\n",
       "      <td>0.046144</td>\n",
       "      <td>2015-01-01</td>\n",
       "    </tr>\n",
       "    <tr>\n",
       "      <th>2015-01-01 00:15:00</th>\n",
       "      <td>0.061305</td>\n",
       "      <td>2015-01-01</td>\n",
       "    </tr>\n",
       "    <tr>\n",
       "      <th>2015-01-01 00:30:00</th>\n",
       "      <td>0.009888</td>\n",
       "      <td>2015-01-01</td>\n",
       "    </tr>\n",
       "    <tr>\n",
       "      <th>2015-01-01 00:45:00</th>\n",
       "      <td>0.007910</td>\n",
       "      <td>2015-01-01</td>\n",
       "    </tr>\n",
       "    <tr>\n",
       "      <th>2015-01-01 01:00:00</th>\n",
       "      <td>0.018457</td>\n",
       "      <td>2015-01-01</td>\n",
       "    </tr>\n",
       "    <tr>\n",
       "      <th>...</th>\n",
       "      <td>...</td>\n",
       "      <td>...</td>\n",
       "    </tr>\n",
       "    <tr>\n",
       "      <th>2015-12-31 22:45:00</th>\n",
       "      <td>0.000000</td>\n",
       "      <td>2015-12-31</td>\n",
       "    </tr>\n",
       "    <tr>\n",
       "      <th>2015-12-31 23:00:00</th>\n",
       "      <td>0.000000</td>\n",
       "      <td>2015-12-31</td>\n",
       "    </tr>\n",
       "    <tr>\n",
       "      <th>2015-12-31 23:15:00</th>\n",
       "      <td>0.000000</td>\n",
       "      <td>2015-12-31</td>\n",
       "    </tr>\n",
       "    <tr>\n",
       "      <th>2015-12-31 23:30:00</th>\n",
       "      <td>0.000000</td>\n",
       "      <td>2015-12-31</td>\n",
       "    </tr>\n",
       "    <tr>\n",
       "      <th>2015-12-31 23:45:00</th>\n",
       "      <td>0.000000</td>\n",
       "      <td>2015-12-31</td>\n",
       "    </tr>\n",
       "  </tbody>\n",
       "</table>\n",
       "<p>35036 rows × 2 columns</p>\n",
       "</div>"
      ],
      "text/plain": [
       "                        Value        date\n",
       "Datetime                                 \n",
       "2015-01-01 00:00:00  0.046144  2015-01-01\n",
       "2015-01-01 00:15:00  0.061305  2015-01-01\n",
       "2015-01-01 00:30:00  0.009888  2015-01-01\n",
       "2015-01-01 00:45:00  0.007910  2015-01-01\n",
       "2015-01-01 01:00:00  0.018457  2015-01-01\n",
       "...                       ...         ...\n",
       "2015-12-31 22:45:00  0.000000  2015-12-31\n",
       "2015-12-31 23:00:00  0.000000  2015-12-31\n",
       "2015-12-31 23:15:00  0.000000  2015-12-31\n",
       "2015-12-31 23:30:00  0.000000  2015-12-31\n",
       "2015-12-31 23:45:00  0.000000  2015-12-31\n",
       "\n",
       "[35036 rows x 2 columns]"
      ]
     },
     "execution_count": 3,
     "metadata": {},
     "output_type": "execute_result"
    }
   ],
   "source": [
    "import pandas as pd\n",
    "\n",
    "dir_typical_ts_CSVs = '/mnt/c/Users/hlee9/Documents/GitHub/DOE_EULP/EULP/data_all/valid_CSVs'\n",
    "dir_daily_window_dft_out = '/mnt/c/Users/hlee9/Documents/GitHub/DOE_EULP/EULP/fig/step_2'\n",
    "\n",
    "v_typical_ts_CSVs = ex.get_all_file_paths(dir_typical_ts_CSVs, 'csv')\n",
    "\n",
    "csv_in = v_typical_ts_CSVs[1]\n",
    "df_ts = ex.clean_pge_df_ts(csv_in, 2015).dropna()\n",
    "df_ts"
   ]
  },
  {
   "cell_type": "markdown",
   "metadata": {},
   "source": [
    "Below is an frequency spectrum bins example for one building."
   ]
  },
  {
   "cell_type": "code",
   "execution_count": 4,
   "metadata": {},
   "outputs": [
    {
     "data": {
      "text/html": [
       "<div>\n",
       "<style scoped>\n",
       "    .dataframe tbody tr th:only-of-type {\n",
       "        vertical-align: middle;\n",
       "    }\n",
       "\n",
       "    .dataframe tbody tr th {\n",
       "        vertical-align: top;\n",
       "    }\n",
       "\n",
       "    .dataframe thead th {\n",
       "        text-align: right;\n",
       "    }\n",
       "</style>\n",
       "<table border=\"1\" class=\"dataframe\">\n",
       "  <thead>\n",
       "    <tr style=\"text-align: right;\">\n",
       "      <th></th>\n",
       "      <th>0.5hr ~ 0.75hr</th>\n",
       "      <th>0.75hr ~ 1hr</th>\n",
       "      <th>1hr ~ 1.25hr</th>\n",
       "      <th>1.25hr ~ 1.5hr</th>\n",
       "      <th>1.5hr ~ 1.75hr</th>\n",
       "      <th>1.75hr ~ 2hr</th>\n",
       "      <th>2hr ~ 4hr</th>\n",
       "      <th>4hr ~ 8hr</th>\n",
       "      <th>8hr ~ 12hr</th>\n",
       "    </tr>\n",
       "  </thead>\n",
       "  <tbody>\n",
       "    <tr>\n",
       "      <th>count</th>\n",
       "      <td>365.000000</td>\n",
       "      <td>365.000000</td>\n",
       "      <td>365.000000</td>\n",
       "      <td>365.000000</td>\n",
       "      <td>365.000000</td>\n",
       "      <td>365.000000</td>\n",
       "      <td>365.000000</td>\n",
       "      <td>365.000000</td>\n",
       "      <td>365.000000</td>\n",
       "    </tr>\n",
       "    <tr>\n",
       "      <th>mean</th>\n",
       "      <td>0.062305</td>\n",
       "      <td>0.035666</td>\n",
       "      <td>0.023685</td>\n",
       "      <td>0.013913</td>\n",
       "      <td>0.009762</td>\n",
       "      <td>0.009295</td>\n",
       "      <td>0.030751</td>\n",
       "      <td>0.016197</td>\n",
       "      <td>0.006820</td>\n",
       "    </tr>\n",
       "    <tr>\n",
       "      <th>std</th>\n",
       "      <td>0.040897</td>\n",
       "      <td>0.022096</td>\n",
       "      <td>0.015163</td>\n",
       "      <td>0.008324</td>\n",
       "      <td>0.006567</td>\n",
       "      <td>0.006031</td>\n",
       "      <td>0.022160</td>\n",
       "      <td>0.013399</td>\n",
       "      <td>0.010964</td>\n",
       "    </tr>\n",
       "    <tr>\n",
       "      <th>min</th>\n",
       "      <td>0.000000</td>\n",
       "      <td>0.000000</td>\n",
       "      <td>0.000000</td>\n",
       "      <td>0.000000</td>\n",
       "      <td>0.000000</td>\n",
       "      <td>0.000000</td>\n",
       "      <td>0.000000</td>\n",
       "      <td>0.000000</td>\n",
       "      <td>0.000000</td>\n",
       "    </tr>\n",
       "    <tr>\n",
       "      <th>25%</th>\n",
       "      <td>0.037751</td>\n",
       "      <td>0.026402</td>\n",
       "      <td>0.017381</td>\n",
       "      <td>0.010442</td>\n",
       "      <td>0.007096</td>\n",
       "      <td>0.006628</td>\n",
       "      <td>0.024805</td>\n",
       "      <td>0.011331</td>\n",
       "      <td>0.001824</td>\n",
       "    </tr>\n",
       "    <tr>\n",
       "      <th>50%</th>\n",
       "      <td>0.068710</td>\n",
       "      <td>0.038847</td>\n",
       "      <td>0.025609</td>\n",
       "      <td>0.015500</td>\n",
       "      <td>0.010192</td>\n",
       "      <td>0.009811</td>\n",
       "      <td>0.033683</td>\n",
       "      <td>0.017288</td>\n",
       "      <td>0.004879</td>\n",
       "    </tr>\n",
       "    <tr>\n",
       "      <th>75%</th>\n",
       "      <td>0.090238</td>\n",
       "      <td>0.048179</td>\n",
       "      <td>0.030797</td>\n",
       "      <td>0.018739</td>\n",
       "      <td>0.013130</td>\n",
       "      <td>0.012480</td>\n",
       "      <td>0.038285</td>\n",
       "      <td>0.019319</td>\n",
       "      <td>0.007288</td>\n",
       "    </tr>\n",
       "    <tr>\n",
       "      <th>max</th>\n",
       "      <td>0.272892</td>\n",
       "      <td>0.171713</td>\n",
       "      <td>0.115181</td>\n",
       "      <td>0.048356</td>\n",
       "      <td>0.045471</td>\n",
       "      <td>0.034547</td>\n",
       "      <td>0.209570</td>\n",
       "      <td>0.106699</td>\n",
       "      <td>0.096793</td>\n",
       "    </tr>\n",
       "  </tbody>\n",
       "</table>\n",
       "</div>"
      ],
      "text/plain": [
       "       0.5hr ~ 0.75hr  0.75hr ~ 1hr  1hr ~ 1.25hr  1.25hr ~ 1.5hr  \\\n",
       "count      365.000000    365.000000    365.000000      365.000000   \n",
       "mean         0.062305      0.035666      0.023685        0.013913   \n",
       "std          0.040897      0.022096      0.015163        0.008324   \n",
       "min          0.000000      0.000000      0.000000        0.000000   \n",
       "25%          0.037751      0.026402      0.017381        0.010442   \n",
       "50%          0.068710      0.038847      0.025609        0.015500   \n",
       "75%          0.090238      0.048179      0.030797        0.018739   \n",
       "max          0.272892      0.171713      0.115181        0.048356   \n",
       "\n",
       "       1.5hr ~ 1.75hr  1.75hr ~ 2hr   2hr ~ 4hr   4hr ~ 8hr  8hr ~ 12hr  \n",
       "count      365.000000    365.000000  365.000000  365.000000  365.000000  \n",
       "mean         0.009762      0.009295    0.030751    0.016197    0.006820  \n",
       "std          0.006567      0.006031    0.022160    0.013399    0.010964  \n",
       "min          0.000000      0.000000    0.000000    0.000000    0.000000  \n",
       "25%          0.007096      0.006628    0.024805    0.011331    0.001824  \n",
       "50%          0.010192      0.009811    0.033683    0.017288    0.004879  \n",
       "75%          0.013130      0.012480    0.038285    0.019319    0.007288  \n",
       "max          0.045471      0.034547    0.209570    0.106699    0.096793  "
      ]
     },
     "execution_count": 4,
     "metadata": {},
     "output_type": "execute_result"
    },
    {
     "data": {
      "image/png": "[encoded data removed]",
      "text/plain": [
       "<Figure size 1008x504 with 1 Axes>"
      ]
     },
     "metadata": {
      "needs_background": "light"
     },
     "output_type": "display_data"
    }
   ],
   "source": [
    "df = fd.get_daily_fft_sum_bins(df_ts, hour_interval_bins)\n",
    "fd.daily_fft_sum_bins_boxplot(df)\n",
    "df.describe()"
   ]
  },
  {
   "cell_type": "markdown",
   "metadata": {},
   "source": [
    "Generate the frequency sprectrum bins for each building, save the boxplot."
   ]
  },
  {
   "cell_type": "code",
   "execution_count": 5,
   "metadata": {},
   "outputs": [
    {
     "data": {
      "text/plain": [
       "188"
      ]
     },
     "execution_count": 5,
     "metadata": {},
     "output_type": "execute_result"
    }
   ],
   "source": [
    "len(v_typical_ts_CSVs)"
   ]
  },
  {
   "cell_type": "code",
   "execution_count": null,
   "metadata": {},
   "outputs": [],
   "source": [
    "for i, ts_csv in enumerate(v_typical_ts_CSVs):\n",
    "    print(dir_daily_window_dft_out)\n",
    "    sp_id = os.path.basename(ts_csv).split('.')[0]\n",
    "    df_ts = ex.clean_pge_df_ts(ts_csv, 2015).dropna()\n",
    "    df = fd.get_daily_fft_sum_bins(df_ts, hour_interval_bins)\n",
    "    fd.daily_fft_sum_bins_boxplot(df, title_key=sp_id, save_path=f\"{dir_daily_window_dft_out}/{sp_id}.png\")"
   ]
  }
 ],
 "metadata": {
  "kernelspec": {
   "display_name": "Python 3",
   "language": "python",
   "name": "python3"
  },
  "language_info": {
   "codemirror_mode": {
    "name": "ipython",
    "version": 3
   },
   "file_extension": ".py",
   "mimetype": "text/x-python",
   "name": "python",
   "nbconvert_exporter": "python",
   "pygments_lexer": "ipython3",
   "version": "3.6.10"
  }
 },
 "nbformat": 4,
 "nbformat_minor": 4
}
