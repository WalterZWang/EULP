{
 "cells": [
  {
   "cell_type": "code",
   "execution_count": 128,
   "id": "b418c91b",
   "metadata": {},
   "outputs": [],
   "source": [
    "import pandas as pd\n",
    "import numpy as np\n",
    "\n",
    "from os import listdir\n",
    "from os.path import join"
   ]
  },
  {
   "cell_type": "code",
   "execution_count": 129,
   "id": "3bcfbde6",
   "metadata": {},
   "outputs": [],
   "source": [
    "data_path = 'data'"
   ]
  },
  {
   "cell_type": "code",
   "execution_count": 130,
   "id": "20cc27c7",
   "metadata": {},
   "outputs": [],
   "source": [
    "onlyfiles = [f for f in listdir(data_path) if f.split('.')[-1]=='csv']"
   ]
  },
  {
   "cell_type": "code",
   "execution_count": 138,
   "id": "1234403d",
   "metadata": {},
   "outputs": [],
   "source": [
    "def read_data(file_name):\n",
    "    data = pd.read_csv(file_name, index_col=False,\n",
    "                       usecols = ['High Load Start', 'High Load Finish', 'utility', 'date', 'holiday'])\n",
    "    # clean up the data\n",
    "    data = data[data['utility']!='epb']      # exclude utility of epb\n",
    "    data = data.dropna()\n",
    "    data = data.rename(columns={\"High Load Start\": \"start_time\", \"High Load Finish\": \"final_time\"})\n",
    "    data = data[(data['start_time']>=4)&(data['start_time']<=12)]\n",
    "    return data"
   ]
  },
  {
   "cell_type": "code",
   "execution_count": 133,
   "id": "390101ec",
   "metadata": {},
   "outputs": [],
   "source": [
    "def random_to_15_mins(data):\n",
    "    '''randomly smooth out to 15 mins\n",
    "    '''\n",
    "    start_time_noise = np.random.random(len(data))-0.5\n",
    "    final_time_noise = np.random.random(len(data))-0.5\n",
    "    data['start_time'] = np.round((data['start_time'].values+start_time_noise)*4)/4\n",
    "    data['final_time'] = np.round((data['final_time'].values+final_time_noise)*4)/4\n",
    "    return data"
   ]
  },
  {
   "cell_type": "code",
   "execution_count": 169,
   "id": "a1926037",
   "metadata": {},
   "outputs": [],
   "source": [
    "def sliding_window_filter(dataframe, filter_length=16):\n",
    "    '''\n",
    "    Using a rolling 4-h window, the slot with the maximum sum of marginal distributions is identified for both \n",
    "    start times.\n",
    "    For each row, filter out a successive series of data with the length of filter_length that has the maximum sum  \n",
    "    '''\n",
    "    \n",
    "    # generate filter matrix\n",
    "    row_length = dataframe.shape[1]\n",
    "    filter_matrix_list = []\n",
    "    for row_id in range(row_length):\n",
    "        row = [0]*row_id + [1]*min(filter_length, row_length-row_id) + [0]*max(0, row_length-row_id-filter_length)\n",
    "        filter_matrix_list.append(row)\n",
    "    filter_matrix = np.array(filter_matrix_list).T\n",
    "    \n",
    "    # filter each row of the dataframe\n",
    "    for row_id in range(dataframe.shape[0]):\n",
    "        row = dataframe.iloc[row_id].values\n",
    "        accuSum = np.dot(row,filter_matrix) # If a is an N-D array and b is a 1-D array, \n",
    "                                            # it is a sum product over the last axis of a (column axis) and b.\n",
    "        start_index = accuSum.argmax()\n",
    "        filter_row = [0]*start_index + [1]*min(filter_length, row_length-start_index) + \\\n",
    "                     [0]*max(0, row_length-start_index-filter_length)\n",
    "        filtered = row*filter_row\n",
    "        filtered = filtered/filtered.sum()\n",
    "        dataframe.iloc[row_id] = filtered\n",
    "    \n",
    "    return dataframe"
   ]
  },
  {
   "cell_type": "code",
   "execution_count": 170,
   "id": "4d35b995",
   "metadata": {},
   "outputs": [],
   "source": [
    "def generate_distribution(data, building_type, slidingWindowFilter=False):\n",
    "    '''\n",
    "    Input has two columns: start_time, duration\n",
    "    Output: two distributions: start_time distribution, duration distribution\n",
    "    '''\n",
    "    start_time_count_list = []\n",
    "    duration_freq_all_df_raw = pd.DataFrame()\n",
    "    for start_time in np.arange(3.5,12.5,0.25):\n",
    "        duration_unique, duration_counts = np.unique(data[data['start_time']==start_time]['duration'], \n",
    "                                                     return_counts=True)\n",
    "        start_time_count = duration_counts.sum()\n",
    "        start_time_count_list.append(start_time_count)\n",
    "        duration_freq = duration_counts/start_time_count\n",
    "\n",
    "        duration_freq_df = pd.DataFrame(data=duration_freq, index=duration_unique)\n",
    "        duration_freq_all_df_raw = pd.concat([duration_freq_all_df_raw, duration_freq_df], axis=1)\n",
    "\n",
    "    start_time_df = pd.DataFrame(data=start_time_count_list/np.array(start_time_count_list).sum(), \n",
    "                                 index=['Option={}'.format(time) for time in np.arange(3.5,12.5,0.25)], \n",
    "                                 columns=[building_type])\n",
    "    start_time_df = start_time_df.T\n",
    "\n",
    "    duration_freq_all_df_raw.fillna(0, inplace=True)\n",
    "    duration_freq_all_df_raw = duration_freq_all_df_raw.reset_index().set_index('index').T.reset_index().drop(columns=['index'])\n",
    "\n",
    "    duration_freq_all_df = pd.DataFrame()\n",
    "    duration_range = np.arange(5.75, 19, 0.25)\n",
    "    for duration in duration_range:\n",
    "        if duration in duration_freq_all_df_raw.columns:\n",
    "            duration_freq_all_df['Option={}'.format(duration)] = duration_freq_all_df_raw[duration]\n",
    "        else:\n",
    "            duration_freq_all_df['Option={}'.format(duration)] = 0\n",
    "\n",
    "    rowSum = duration_freq_all_df.sum(axis=1).values\n",
    "    rowSum = rowSum[...,np.newaxis]\n",
    "    duration_freq_all_df = pd.DataFrame(duration_freq_all_df.values/rowSum)\n",
    "    duration_freq_all_df.columns = ['Option={}'.format(duration) for duration in duration_range]\n",
    "\n",
    "    if slidingWindowFilter:\n",
    "        start_time_df = sliding_window_filter(start_time_df, filter_length=16)\n",
    "        duration_freq_all_df = sliding_window_filter(duration_freq_all_df, filter_length=16)\n",
    "    \n",
    "    duration_freq_all_df.insert(0, 'Dependency=building_type', building_type)\n",
    "    duration_freq_all_df.insert(1, 'Dependency=start_time', np.arange(3.5,12.5,0.25))\n",
    "    duration_freq_all_df.fillna(0, inplace=True)\n",
    "    \n",
    "    start_time_df = start_time_df.round(3)\n",
    "    duration_freq_all_df = duration_freq_all_df.round(3)\n",
    "        \n",
    "    return start_time_df, duration_freq_all_df"
   ]
  },
  {
   "cell_type": "markdown",
   "id": "a5f9d20f",
   "metadata": {},
   "source": [
    "## Generate without filtering"
   ]
  },
  {
   "cell_type": "code",
   "execution_count": 145,
   "id": "16613e5a",
   "metadata": {},
   "outputs": [
    {
     "name": "stdout",
     "output_type": "stream",
     "text": [
      "Processing auto_dealership\n",
      "Processing auto_repair\n",
      "Processing car_wash\n"
     ]
    },
    {
     "name": "stderr",
     "output_type": "stream",
     "text": [
      "C:\\Users\\hongteam\\Anaconda3\\envs\\eulp\\lib\\site-packages\\ipykernel_launcher.py:36: RuntimeWarning: invalid value encountered in true_divide\n"
     ]
    },
    {
     "name": "stdout",
     "output_type": "stream",
     "text": [
      "Processing drug_store\n",
      "Processing full_service_restaurant\n",
      "Processing gas_station_or_convenience_store\n",
      "Processing hospital\n"
     ]
    },
    {
     "name": "stderr",
     "output_type": "stream",
     "text": [
      "C:\\Users\\hongteam\\Anaconda3\\envs\\eulp\\lib\\site-packages\\ipykernel_launcher.py:36: RuntimeWarning: invalid value encountered in true_divide\n",
      "C:\\Users\\hongteam\\Anaconda3\\envs\\eulp\\lib\\site-packages\\ipykernel_launcher.py:36: RuntimeWarning: invalid value encountered in true_divide\n"
     ]
    },
    {
     "name": "stdout",
     "output_type": "stream",
     "text": [
      "Processing house_of_worship\n",
      "Processing large_hotel\n",
      "Processing large_office\n",
      "Processing library\n"
     ]
    },
    {
     "name": "stderr",
     "output_type": "stream",
     "text": [
      "C:\\Users\\hongteam\\Anaconda3\\envs\\eulp\\lib\\site-packages\\ipykernel_launcher.py:36: RuntimeWarning: invalid value encountered in true_divide\n",
      "C:\\Users\\hongteam\\Anaconda3\\envs\\eulp\\lib\\site-packages\\ipykernel_launcher.py:36: RuntimeWarning: invalid value encountered in true_divide\n"
     ]
    },
    {
     "name": "stdout",
     "output_type": "stream",
     "text": [
      "Processing medium_office\n",
      "Processing mobile_home_park\n",
      "Processing movie_theater\n"
     ]
    },
    {
     "name": "stderr",
     "output_type": "stream",
     "text": [
      "C:\\Users\\hongteam\\Anaconda3\\envs\\eulp\\lib\\site-packages\\ipykernel_launcher.py:36: RuntimeWarning: invalid value encountered in true_divide\n",
      "C:\\Users\\hongteam\\Anaconda3\\envs\\eulp\\lib\\site-packages\\ipykernel_launcher.py:36: RuntimeWarning: invalid value encountered in true_divide\n"
     ]
    },
    {
     "name": "stdout",
     "output_type": "stream",
     "text": [
      "Processing other_industrial\n",
      "Processing other_retail\n",
      "Processing other_specialty\n",
      "Processing other_sports_entertainment\n",
      "Processing outpatient\n",
      "Processing parking_garage\n"
     ]
    },
    {
     "name": "stderr",
     "output_type": "stream",
     "text": [
      "C:\\Users\\hongteam\\Anaconda3\\envs\\eulp\\lib\\site-packages\\ipykernel_launcher.py:36: RuntimeWarning: invalid value encountered in true_divide\n",
      "C:\\Users\\hongteam\\Anaconda3\\envs\\eulp\\lib\\site-packages\\ipykernel_launcher.py:36: RuntimeWarning: invalid value encountered in true_divide\n"
     ]
    },
    {
     "name": "stdout",
     "output_type": "stream",
     "text": [
      "Processing parking_lot\n"
     ]
    },
    {
     "name": "stderr",
     "output_type": "stream",
     "text": [
      "C:\\Users\\hongteam\\Anaconda3\\envs\\eulp\\lib\\site-packages\\ipykernel_launcher.py:36: RuntimeWarning: invalid value encountered in true_divide\n",
      "C:\\Users\\hongteam\\Anaconda3\\envs\\eulp\\lib\\site-packages\\ipykernel_launcher.py:36: RuntimeWarning: invalid value encountered in true_divide\n"
     ]
    },
    {
     "name": "stdout",
     "output_type": "stream",
     "text": [
      "Processing police_or_fire_station\n",
      "Processing pool\n"
     ]
    },
    {
     "name": "stderr",
     "output_type": "stream",
     "text": [
      "C:\\Users\\hongteam\\Anaconda3\\envs\\eulp\\lib\\site-packages\\ipykernel_launcher.py:36: RuntimeWarning: invalid value encountered in true_divide\n",
      "C:\\Users\\hongteam\\Anaconda3\\envs\\eulp\\lib\\site-packages\\ipykernel_launcher.py:36: RuntimeWarning: invalid value encountered in true_divide\n"
     ]
    },
    {
     "name": "stdout",
     "output_type": "stream",
     "text": [
      "Processing primary_school\n",
      "Processing quick_service_restaurant\n",
      "Processing retail\n",
      "Processing R_D\n"
     ]
    },
    {
     "name": "stderr",
     "output_type": "stream",
     "text": [
      "C:\\Users\\hongteam\\Anaconda3\\envs\\eulp\\lib\\site-packages\\ipykernel_launcher.py:36: RuntimeWarning: invalid value encountered in true_divide\n",
      "C:\\Users\\hongteam\\Anaconda3\\envs\\eulp\\lib\\site-packages\\ipykernel_launcher.py:36: RuntimeWarning: invalid value encountered in true_divide\n"
     ]
    },
    {
     "name": "stdout",
     "output_type": "stream",
     "text": [
      "Processing small_hotel\n",
      "Processing small_office\n",
      "Processing strip_mall\n",
      "Processing supermarket\n"
     ]
    },
    {
     "name": "stderr",
     "output_type": "stream",
     "text": [
      "C:\\Users\\hongteam\\Anaconda3\\envs\\eulp\\lib\\site-packages\\ipykernel_launcher.py:36: RuntimeWarning: invalid value encountered in true_divide\n",
      "C:\\Users\\hongteam\\Anaconda3\\envs\\eulp\\lib\\site-packages\\ipykernel_launcher.py:36: RuntimeWarning: invalid value encountered in true_divide\n"
     ]
    },
    {
     "name": "stdout",
     "output_type": "stream",
     "text": [
      "Processing warehouse\n",
      "Processing warehouse_refrigerated\n"
     ]
    },
    {
     "name": "stderr",
     "output_type": "stream",
     "text": [
      "C:\\Users\\hongteam\\Anaconda3\\envs\\eulp\\lib\\site-packages\\ipykernel_launcher.py:36: RuntimeWarning: invalid value encountered in true_divide\n",
      "C:\\Users\\hongteam\\Anaconda3\\envs\\eulp\\lib\\site-packages\\ipykernel_launcher.py:36: RuntimeWarning: invalid value encountered in true_divide\n"
     ]
    }
   ],
   "source": [
    "start_time_WD_all = pd.DataFrame()\n",
    "duration_freq_WD_all = pd.DataFrame()\n",
    "start_time_NWD_all = pd.DataFrame()\n",
    "duration_freq_NWD_all = pd.DataFrame()\n",
    "\n",
    "for file in onlyfiles:\n",
    "    building_type = file.split('.')[0].split('-')[1]\n",
    "    print('Processing {}'.format(building_type))\n",
    "    data = read_data(join(data_path, file))\n",
    "    data = random_to_15_mins(data)\n",
    "    data['duration'] = data['final_time'] - data['start_time']\n",
    "    \n",
    "    # working day vs non-working day\n",
    "    data['time'] = pd.to_datetime(data['date'])\n",
    "    data['workingDay'] = data.apply(lambda x: (x['time'].weekday()<5)&(not x['holiday']), axis=1)  # axis=1 must be there\n",
    "    data_WD = data[data['workingDay']]\n",
    "    data_NWD = data[~ data['workingDay']]    \n",
    "\n",
    "    # generate distribution\n",
    "    start_time_WD, duration_freq_WD = generate_distribution(data_WD, building_type)\n",
    "    start_time_NWD, duration_freq_NWD = generate_distribution(data_NWD, building_type) \n",
    "\n",
    "    # merge into one file\n",
    "    start_time_WD_all = pd.concat([start_time_WD_all, start_time_WD], axis=0)\n",
    "    start_time_NWD_all = pd.concat([start_time_NWD_all, start_time_NWD], axis=0)\n",
    "    \n",
    "    duration_freq_WD_all = pd.concat([duration_freq_WD_all, duration_freq_WD], axis=0)\n",
    "    duration_freq_NWD_all = pd.concat([duration_freq_NWD_all, duration_freq_NWD], axis=0)   "
   ]
  },
  {
   "cell_type": "code",
   "execution_count": 160,
   "id": "d6c33639",
   "metadata": {},
   "outputs": [],
   "source": [
    "start_time_WD_all.index.name = 'Dependency=building_type'\n",
    "start_time_NWD_all.index.name = 'Dependency=building_type'\n",
    "start_time_WD_all.to_csv('distribution/notFiltered/weekday_start_time.tsv', sep = '\\t')\n",
    "start_time_NWD_all.to_csv('distribution/notFiltered/weekend_start_time.tsv', sep = '\\t')"
   ]
  },
  {
   "cell_type": "code",
   "execution_count": 161,
   "id": "a25fbcd3",
   "metadata": {},
   "outputs": [],
   "source": [
    "duration_freq_WD_all.fillna(0, inplace=True)\n",
    "duration_freq_NWD_all.fillna(0, inplace=True)\n",
    "duration_freq_WD_all.to_csv('distribution/notFiltered/weekday_duration.tsv', sep = '\\t', index=False)\n",
    "duration_freq_NWD_all.to_csv('distribution/notFiltered/weekend_duration.tsv', sep = '\\t', index=False)"
   ]
  },
  {
   "cell_type": "markdown",
   "id": "c516adab",
   "metadata": {},
   "source": [
    "## Generate without filtering"
   ]
  },
  {
   "cell_type": "code",
   "execution_count": 171,
   "id": "8bc08df4",
   "metadata": {},
   "outputs": [
    {
     "name": "stdout",
     "output_type": "stream",
     "text": [
      "Processing auto_dealership\n",
      "Processing auto_repair\n",
      "Processing car_wash\n"
     ]
    },
    {
     "name": "stderr",
     "output_type": "stream",
     "text": [
      "C:\\Users\\hongteam\\Anaconda3\\envs\\eulp\\lib\\site-packages\\ipykernel_launcher.py:36: RuntimeWarning: invalid value encountered in true_divide\n"
     ]
    },
    {
     "name": "stdout",
     "output_type": "stream",
     "text": [
      "Processing drug_store\n",
      "Processing full_service_restaurant\n",
      "Processing gas_station_or_convenience_store\n",
      "Processing hospital\n"
     ]
    },
    {
     "name": "stderr",
     "output_type": "stream",
     "text": [
      "C:\\Users\\hongteam\\Anaconda3\\envs\\eulp\\lib\\site-packages\\ipykernel_launcher.py:36: RuntimeWarning: invalid value encountered in true_divide\n",
      "C:\\Users\\hongteam\\Anaconda3\\envs\\eulp\\lib\\site-packages\\ipykernel_launcher.py:36: RuntimeWarning: invalid value encountered in true_divide\n"
     ]
    },
    {
     "name": "stdout",
     "output_type": "stream",
     "text": [
      "Processing house_of_worship\n",
      "Processing large_hotel\n",
      "Processing large_office\n",
      "Processing library\n"
     ]
    },
    {
     "name": "stderr",
     "output_type": "stream",
     "text": [
      "C:\\Users\\hongteam\\Anaconda3\\envs\\eulp\\lib\\site-packages\\ipykernel_launcher.py:36: RuntimeWarning: invalid value encountered in true_divide\n",
      "C:\\Users\\hongteam\\Anaconda3\\envs\\eulp\\lib\\site-packages\\ipykernel_launcher.py:36: RuntimeWarning: invalid value encountered in true_divide\n"
     ]
    },
    {
     "name": "stdout",
     "output_type": "stream",
     "text": [
      "Processing medium_office\n",
      "Processing mobile_home_park\n",
      "Processing movie_theater\n"
     ]
    },
    {
     "name": "stderr",
     "output_type": "stream",
     "text": [
      "C:\\Users\\hongteam\\Anaconda3\\envs\\eulp\\lib\\site-packages\\ipykernel_launcher.py:36: RuntimeWarning: invalid value encountered in true_divide\n",
      "C:\\Users\\hongteam\\Anaconda3\\envs\\eulp\\lib\\site-packages\\ipykernel_launcher.py:36: RuntimeWarning: invalid value encountered in true_divide\n"
     ]
    },
    {
     "name": "stdout",
     "output_type": "stream",
     "text": [
      "Processing other_industrial\n",
      "Processing other_retail\n",
      "Processing other_specialty\n",
      "Processing other_sports_entertainment\n",
      "Processing outpatient\n",
      "Processing parking_garage\n"
     ]
    },
    {
     "name": "stderr",
     "output_type": "stream",
     "text": [
      "C:\\Users\\hongteam\\Anaconda3\\envs\\eulp\\lib\\site-packages\\ipykernel_launcher.py:36: RuntimeWarning: invalid value encountered in true_divide\n",
      "C:\\Users\\hongteam\\Anaconda3\\envs\\eulp\\lib\\site-packages\\ipykernel_launcher.py:36: RuntimeWarning: invalid value encountered in true_divide\n"
     ]
    },
    {
     "name": "stdout",
     "output_type": "stream",
     "text": [
      "Processing parking_lot\n"
     ]
    },
    {
     "name": "stderr",
     "output_type": "stream",
     "text": [
      "C:\\Users\\hongteam\\Anaconda3\\envs\\eulp\\lib\\site-packages\\ipykernel_launcher.py:36: RuntimeWarning: invalid value encountered in true_divide\n",
      "C:\\Users\\hongteam\\Anaconda3\\envs\\eulp\\lib\\site-packages\\ipykernel_launcher.py:36: RuntimeWarning: invalid value encountered in true_divide\n"
     ]
    },
    {
     "name": "stdout",
     "output_type": "stream",
     "text": [
      "Processing police_or_fire_station\n",
      "Processing pool\n"
     ]
    },
    {
     "name": "stderr",
     "output_type": "stream",
     "text": [
      "C:\\Users\\hongteam\\Anaconda3\\envs\\eulp\\lib\\site-packages\\ipykernel_launcher.py:36: RuntimeWarning: invalid value encountered in true_divide\n"
     ]
    },
    {
     "name": "stdout",
     "output_type": "stream",
     "text": [
      "Processing primary_school\n",
      "Processing quick_service_restaurant\n",
      "Processing retail\n",
      "Processing R_D\n"
     ]
    },
    {
     "name": "stderr",
     "output_type": "stream",
     "text": [
      "C:\\Users\\hongteam\\Anaconda3\\envs\\eulp\\lib\\site-packages\\ipykernel_launcher.py:36: RuntimeWarning: invalid value encountered in true_divide\n",
      "C:\\Users\\hongteam\\Anaconda3\\envs\\eulp\\lib\\site-packages\\ipykernel_launcher.py:36: RuntimeWarning: invalid value encountered in true_divide\n"
     ]
    },
    {
     "name": "stdout",
     "output_type": "stream",
     "text": [
      "Processing small_hotel\n",
      "Processing small_office\n",
      "Processing strip_mall\n",
      "Processing supermarket\n"
     ]
    },
    {
     "name": "stderr",
     "output_type": "stream",
     "text": [
      "C:\\Users\\hongteam\\Anaconda3\\envs\\eulp\\lib\\site-packages\\ipykernel_launcher.py:36: RuntimeWarning: invalid value encountered in true_divide\n",
      "C:\\Users\\hongteam\\Anaconda3\\envs\\eulp\\lib\\site-packages\\ipykernel_launcher.py:36: RuntimeWarning: invalid value encountered in true_divide\n"
     ]
    },
    {
     "name": "stdout",
     "output_type": "stream",
     "text": [
      "Processing warehouse\n",
      "Processing warehouse_refrigerated\n"
     ]
    },
    {
     "name": "stderr",
     "output_type": "stream",
     "text": [
      "C:\\Users\\hongteam\\Anaconda3\\envs\\eulp\\lib\\site-packages\\ipykernel_launcher.py:36: RuntimeWarning: invalid value encountered in true_divide\n",
      "C:\\Users\\hongteam\\Anaconda3\\envs\\eulp\\lib\\site-packages\\ipykernel_launcher.py:36: RuntimeWarning: invalid value encountered in true_divide\n"
     ]
    }
   ],
   "source": [
    "start_time_WD_all = pd.DataFrame()\n",
    "duration_freq_WD_all = pd.DataFrame()\n",
    "start_time_NWD_all = pd.DataFrame()\n",
    "duration_freq_NWD_all = pd.DataFrame()\n",
    "\n",
    "for file in onlyfiles:\n",
    "    building_type = file.split('.')[0].split('-')[1]\n",
    "    print('Processing {}'.format(building_type))\n",
    "    data = read_data(join(data_path, file))\n",
    "    data = random_to_15_mins(data)\n",
    "    data['duration'] = data['final_time'] - data['start_time']\n",
    "    \n",
    "    # working day vs non-working day\n",
    "    data['time'] = pd.to_datetime(data['date'])\n",
    "    data['workingDay'] = data.apply(lambda x: (x['time'].weekday()<5)&(not x['holiday']), axis=1)  # axis=1 must be there\n",
    "    data_WD = data[data['workingDay']]\n",
    "    data_NWD = data[~ data['workingDay']]    \n",
    "\n",
    "    # generate distribution\n",
    "    start_time_WD, duration_freq_WD = generate_distribution(data_WD, building_type, slidingWindowFilter=True)\n",
    "    start_time_NWD, duration_freq_NWD = generate_distribution(data_NWD, building_type, slidingWindowFilter=True) \n",
    "\n",
    "    # merge into one file\n",
    "    start_time_WD_all = pd.concat([start_time_WD_all, start_time_WD], axis=0)\n",
    "    start_time_NWD_all = pd.concat([start_time_NWD_all, start_time_NWD], axis=0)\n",
    "    \n",
    "    duration_freq_WD_all = pd.concat([duration_freq_WD_all, duration_freq_WD], axis=0)\n",
    "    duration_freq_NWD_all = pd.concat([duration_freq_NWD_all, duration_freq_NWD], axis=0)   "
   ]
  },
  {
   "cell_type": "code",
   "execution_count": 172,
   "id": "ae576557",
   "metadata": {},
   "outputs": [],
   "source": [
    "start_time_WD_all.index.name = 'Dependency=building_type'\n",
    "start_time_NWD_all.index.name = 'Dependency=building_type'\n",
    "start_time_WD_all.to_csv('distribution/filtered/weekday_start_time_filtered.tsv', sep = '\\t')\n",
    "start_time_NWD_all.to_csv('distribution/filtered/weekend_start_time_filtered.tsv', sep = '\\t')"
   ]
  },
  {
   "cell_type": "code",
   "execution_count": 173,
   "id": "c9f19ce2",
   "metadata": {},
   "outputs": [],
   "source": [
    "duration_freq_WD_all.fillna(0, inplace=True)\n",
    "duration_freq_NWD_all.fillna(0, inplace=True)\n",
    "duration_freq_WD_all.to_csv('distribution/filtered/weekday_duration_filtered.tsv', sep = '\\t', index=False)\n",
    "duration_freq_NWD_all.to_csv('distribution/filtered/weekend_duration_filtered.tsv', sep = '\\t', index=False)"
   ]
  },
  {
   "cell_type": "code",
   "execution_count": null,
   "id": "807fbb6f",
   "metadata": {},
   "outputs": [],
   "source": []
  }
 ],
 "metadata": {
  "kernelspec": {
   "display_name": "Python 3",
   "language": "python",
   "name": "python3"
  },
  "language_info": {
   "codemirror_mode": {
    "name": "ipython",
    "version": 3
   },
   "file_extension": ".py",
   "mimetype": "text/x-python",
   "name": "python",
   "nbconvert_exporter": "python",
   "pygments_lexer": "ipython3",
   "version": "3.6.13"
  }
 },
 "nbformat": 4,
 "nbformat_minor": 5
}
